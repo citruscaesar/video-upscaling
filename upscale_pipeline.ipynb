{
 "cells": [
  {
   "cell_type": "code",
   "execution_count": 60,
   "metadata": {},
   "outputs": [],
   "source": [
    "from typing import Any, Optional\n",
    "from numpy.typing import NDArray\n",
    "\n",
    "from pathlib import Path\n",
    "import torch\n",
    "import numpy as np\n",
    "import matplotlib.pyplot as plt\n",
    "from tqdm import tqdm\n",
    "from diffusers import StableDiffusionUpscalePipeline\n",
    "from diffusers.models.attention_processor import AttnProcessor2_0\n",
    "\n",
    "import av\n",
    "import imageio.v3 as iio\n",
    "from PIL import Image"
   ]
  },
  {
   "cell_type": "code",
   "execution_count": 61,
   "metadata": {},
   "outputs": [
    {
     "name": "stdout",
     "output_type": "stream",
     "text": [
      "(300, 480, 640, 3)\n",
      "60.0\n"
     ]
    }
   ],
   "source": [
    "DATA = Path.cwd() / \"data\"\n",
    "SD_VID_PATH = DATA / \"inter4k_222_sd.mp4\"\n",
    "HD_VID_PATH = DATA / \"inter4k_222_hd.mp4\"\n",
    "\n",
    "sd_vid = iio.imread(SD_VID_PATH, plugin = \"pyav\")\n",
    "fps = iio.immeta(SD_VID_PATH, plugin = \"pyav\")[\"fps\"]\n",
    "print(sd_vid.shape)\n",
    "print(fps)"
   ]
  },
  {
   "cell_type": "code",
   "execution_count": 46,
   "metadata": {},
   "outputs": [],
   "source": [
    "def upscale_video_4x(video: NDArray, prompt: str, limit_frames: Optional[int] = None, random_seed: int = 42, ) -> NDArray:\n",
    "    \"\"\"\n",
    "    Parameters\n",
    "    ----------\n",
    "    video: NDArray\n",
    "        numpy array of shape (frames, height, width, channels)\n",
    "    prompt: str\n",
    "        text prompt given to the model\n",
    "    limit_frames: int, optional\n",
    "        for debugging purposes, only upscale first limit_frames frames of the video\n",
    "    random_seed: int, optional\n",
    "        for reproducibility\n",
    "    \"\"\"\n",
    "\n",
    "    model_id = \"stabilityai/stable-diffusion-x4-upscaler\"\n",
    "    generator = torch.Generator(\"cuda\").manual_seed(random_seed)\n",
    "    upscale = StableDiffusionUpscalePipeline.from_pretrained(\n",
    "        model_id,\n",
    "        torch_dtype = torch.float16,\n",
    "        generator = generator,\n",
    "        output_type = \"ndarray\",\n",
    "        num_inference_steps = 20,\n",
    "        num_images_per_prompt = 1,\n",
    "    )\n",
    "    # pipe.unet = torch.compile(pipe.unet)\n",
    "    # pipe.unet.set_attn_processor(AttnProcessor2_0())\n",
    "    upscale = upscale.to(\"cuda\")\n",
    "    upscale.enable_sequential_cpu_offload()\n",
    "    upscale.enable_attention_slicing()\n",
    "\n",
    "    if limit_frames is None:\n",
    "        limit_frames = video.shape[0]\n",
    "    print(f\"limiting frames to: {limit_frames}\")\n",
    "\n",
    "    upscaled_video = list()\n",
    "    for idx, frame in enumerate(video):\n",
    "        print(f\"Upscaling Frame: {idx}\")\n",
    "        if idx > limit_frames:\n",
    "            break\n",
    "        frame = Image.fromarray(frame)\n",
    "        upscaled_frame = upscale(prompt = prompt, image = frame).images[0]\n",
    "        upscaled_video.append(np.array(upscaled_frame))\n",
    "    return np.stack(upscaled_video)"
   ]
  },
  {
   "cell_type": "code",
   "execution_count": 26,
   "metadata": {},
   "outputs": [
    {
     "name": "stderr",
     "output_type": "stream",
     "text": [
      "Keyword arguments {'generator': <torch._C.Generator object at 0x7fe8b42f3610>, 'output_type': 'ndarray', 'num_inference_steps': 20, 'num_images_per_prompt': 1} are not expected by StableDiffusionUpscalePipeline and will be ignored.\n"
     ]
    },
    {
     "data": {
      "application/vnd.jupyter.widget-view+json": {
       "model_id": "bb0722e728e54b8680ef80d75239abe6",
       "version_major": 2,
       "version_minor": 0
      },
      "text/plain": [
       "Loading pipeline components...:   0%|          | 0/6 [00:00<?, ?it/s]"
      ]
     },
     "metadata": {},
     "output_type": "display_data"
    },
    {
     "name": "stdout",
     "output_type": "stream",
     "text": [
      "limiting_frames_to: 1\n"
     ]
    },
    {
     "data": {
      "application/vnd.jupyter.widget-view+json": {
       "model_id": "d471125de4a545dea46235c99e2d8042",
       "version_major": 2,
       "version_minor": 0
      },
      "text/plain": [
       "  0%|          | 0/75 [00:00<?, ?it/s]"
      ]
     },
     "metadata": {},
     "output_type": "display_data"
    },
    {
     "data": {
      "application/vnd.jupyter.widget-view+json": {
       "model_id": "369d2d604d694007baf9a849f6df8bac",
       "version_major": 2,
       "version_minor": 0
      },
      "text/plain": [
       "  0%|          | 0/75 [00:00<?, ?it/s]"
      ]
     },
     "metadata": {},
     "output_type": "display_data"
    }
   ],
   "source": [
    "up_vid = upscale_video_4x(sd_vid, \"cityscape at night\", limit_frames=1)"
   ]
  },
  {
   "cell_type": "code",
   "execution_count": 62,
   "metadata": {},
   "outputs": [
    {
     "data": {
      "text/plain": [
       "(2, 1920, 2560, 3)"
      ]
     },
     "execution_count": 62,
     "metadata": {},
     "output_type": "execute_result"
    }
   ],
   "source": [
    "up_vid.shape"
   ]
  },
  {
   "cell_type": "code",
   "execution_count": 59,
   "metadata": {},
   "outputs": [],
   "source": [
    "# TODO: Rewrite Video Encoder\n",
    "\n",
    "output = av.open(str(HD_VID_PATH), mode=\"w\")\n",
    "stream = output.add_stream(\"libx264\", rate=30)\n",
    "stream.width = up_vid.shape[2]  # Set width from the frames array\n",
    "stream.height = up_vid.shape[1]  # Set height from the frames array\n",
    "stream.pix_fmt = \"yuv420p\"\n",
    "\n",
    "# Write frames to the video\n",
    "for frame in up_vid:\n",
    "    frame = av.VideoFrame.from_ndarray(frame, format=\"rgb24\")\n",
    "    packet = stream.encode(frame)\n",
    "    if packet:\n",
    "        output.mux(packet)"
   ]
  }
 ],
 "metadata": {
  "kernelspec": {
   "display_name": "base",
   "language": "python",
   "name": "python3"
  },
  "language_info": {
   "codemirror_mode": {
    "name": "ipython",
    "version": 3
   },
   "file_extension": ".py",
   "mimetype": "text/x-python",
   "name": "python",
   "nbconvert_exporter": "python",
   "pygments_lexer": "ipython3",
   "version": "3.12.2"
  }
 },
 "nbformat": 4,
 "nbformat_minor": 2
}
