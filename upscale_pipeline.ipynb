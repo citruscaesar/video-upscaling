{
 "cells": [
  {
   "cell_type": "code",
   "execution_count": 45,
   "metadata": {},
   "outputs": [],
   "source": [
    "from typing import Any, Optional\n",
    "from numpy.typing import NDArray\n",
    "\n",
    "from pathlib import Path\n",
    "import torch\n",
    "import numpy as np\n",
    "import matplotlib.pyplot as plt\n",
    "from tqdm import tqdm\n",
    "from diffusers import StableDiffusionUpscalePipeline\n",
    "from torch.utils.data import DataLoader\n",
    "\n",
    "import av\n",
    "import imageio.v3 as iio\n",
    "from PIL import Image\n",
    "\n",
    "import torch._dynamo\n",
    "torch._dynamo.config.suppress_errors = True"
   ]
  },
  {
   "cell_type": "code",
   "execution_count": 46,
   "metadata": {},
   "outputs": [
    {
     "name": "stdout",
     "output_type": "stream",
     "text": [
      "Loaded video /home/video-upscaling/data/inter4k_222_sd.mp4 as ndarray\n",
      "It's a 480x640 video which is 5.0s long, at 60.0fps, thus equalling 300 frames\n"
     ]
    }
   ],
   "source": [
    "DATA = Path.cwd() / \"data\"\n",
    "SD_VID_PATH = DATA / \"inter4k_222_sd.mp4\"\n",
    "HD_VID_PATH = DATA / \"inter4k_222_hd.mp4\"\n",
    "\n",
    "sd_vid = iio.imread(SD_VID_PATH, plugin = \"pyav\")\n",
    "sd_vid_metadata = iio.immeta(SD_VID_PATH, plugin = \"pyav\")\n",
    "fps = sd_vid_metadata[\"fps\"]\n",
    "\n",
    "print(f\"Loaded video {SD_VID_PATH} as ndarray\")\n",
    "print(f\"It's a {sd_vid.shape[1]}x{sd_vid.shape[2]} video which is\", end = \" \")\n",
    "print(f\"{sd_vid_metadata['duration']}s long, at {sd_vid_metadata['fps']}fps, thus equalling {sd_vid.shape[0]} frames\")"
   ]
  },
  {
   "cell_type": "code",
   "execution_count": 64,
   "metadata": {},
   "outputs": [],
   "source": [
    "def upscale_video_4x(video: NDArray, prompt: str, limit_frames: Optional[int] = None, random_seed: int = 42, ) -> NDArray:\n",
    "    \"\"\"\n",
    "    Parameters\n",
    "    ----------\n",
    "    video: NDArray\n",
    "        numpy array of shape (frames, height, width, channels)\n",
    "    prompt: str\n",
    "        text prompt given to the model\n",
    "    limit_frames: int, optional\n",
    "        for debugging purposes, only upscale first limit_frames frames of the video\n",
    "    random_seed: int, optional\n",
    "        for reproducibility\n",
    "    \"\"\"\n",
    "\n",
    "    model_id = \"stabilityai/stable-diffusion-x4-upscaler\"\n",
    "    generator = torch.Generator(\"cuda\").manual_seed(random_seed)\n",
    "    upscale = StableDiffusionUpscalePipeline.from_pretrained(\n",
    "        model_id,\n",
    "        torch_dtype = torch.float16,\n",
    "        use_safetensors = True,\n",
    "        # generator = generator,\n",
    "        # output_type = \"ndarray\",\n",
    "        # num_inference_steps = 20,\n",
    "        # num_images_per_prompt = 1,\n",
    "    )\n",
    "    # upscale.unet.set_attn_processor(AttnProcessor2_0())\n",
    "    upscale = upscale.to(\"cuda\")\n",
    "    # upscale.unet = torch.compile(upscale.unet, mode=\"reduce-overhead\", fullgraph=True)\n",
    "    upscale.enable_sequential_cpu_offload()\n",
    "    upscale.enable_attention_slicing()\n",
    "\n",
    "    if limit_frames is None:\n",
    "        limit_frames = video.shape[0]\n",
    "    print(f\"limiting frames to: {limit_frames}\")\n",
    "    \n",
    "    upscaled_video = list()\n",
    "    for idx, frame in enumerate(video):\n",
    "        print(f\"Upscaling Frame: {idx}\")\n",
    "        if idx > limit_frames:\n",
    "            break\n",
    "        frame = Image.fromarray(frame)\n",
    "        upscaled_frame = upscale(\n",
    "            prompt = prompt, \n",
    "            image = frame, \n",
    "            num_inference_steps = 20,\n",
    "            generator = generator,\n",
    "            ).images[0]\n",
    "        upscaled_video.append(np.array(upscaled_frame))\n",
    "    return np.stack(upscaled_video)"
   ]
  },
  {
   "cell_type": "code",
   "execution_count": 65,
   "metadata": {},
   "outputs": [
    {
     "data": {
      "application/vnd.jupyter.widget-view+json": {
       "model_id": "7c3f511fac594216bfe0e622f3dae122",
       "version_major": 2,
       "version_minor": 0
      },
      "text/plain": [
       "Loading pipeline components...:   0%|          | 0/6 [00:00<?, ?it/s]"
      ]
     },
     "metadata": {},
     "output_type": "display_data"
    },
    {
     "name": "stdout",
     "output_type": "stream",
     "text": [
      "limiting frames to: 20\n",
      "Upscaling Frame: 0\n"
     ]
    },
    {
     "data": {
      "application/vnd.jupyter.widget-view+json": {
       "model_id": "d8944cb669e544dbbeae9b60ffdd6d35",
       "version_major": 2,
       "version_minor": 0
      },
      "text/plain": [
       "  0%|          | 0/20 [00:00<?, ?it/s]"
      ]
     },
     "metadata": {},
     "output_type": "display_data"
    },
    {
     "name": "stdout",
     "output_type": "stream",
     "text": [
      "Upscaling Frame: 1\n"
     ]
    },
    {
     "data": {
      "application/vnd.jupyter.widget-view+json": {
       "model_id": "816690a9ba1f4533a57a8f3e5c1db51d",
       "version_major": 2,
       "version_minor": 0
      },
      "text/plain": [
       "  0%|          | 0/20 [00:00<?, ?it/s]"
      ]
     },
     "metadata": {},
     "output_type": "display_data"
    },
    {
     "name": "stdout",
     "output_type": "stream",
     "text": [
      "Upscaling Frame: 2\n"
     ]
    },
    {
     "data": {
      "application/vnd.jupyter.widget-view+json": {
       "model_id": "b330b905aab14366afdfeae00db14cbe",
       "version_major": 2,
       "version_minor": 0
      },
      "text/plain": [
       "  0%|          | 0/20 [00:00<?, ?it/s]"
      ]
     },
     "metadata": {},
     "output_type": "display_data"
    },
    {
     "name": "stdout",
     "output_type": "stream",
     "text": [
      "Upscaling Frame: 3\n"
     ]
    },
    {
     "data": {
      "application/vnd.jupyter.widget-view+json": {
       "model_id": "dd97a5cb916148acb69b0fc55c898327",
       "version_major": 2,
       "version_minor": 0
      },
      "text/plain": [
       "  0%|          | 0/20 [00:00<?, ?it/s]"
      ]
     },
     "metadata": {},
     "output_type": "display_data"
    },
    {
     "name": "stdout",
     "output_type": "stream",
     "text": [
      "Upscaling Frame: 4\n"
     ]
    },
    {
     "data": {
      "application/vnd.jupyter.widget-view+json": {
       "model_id": "dcb65c695004498fa3c6d74e15eb2423",
       "version_major": 2,
       "version_minor": 0
      },
      "text/plain": [
       "  0%|          | 0/20 [00:00<?, ?it/s]"
      ]
     },
     "metadata": {},
     "output_type": "display_data"
    },
    {
     "name": "stdout",
     "output_type": "stream",
     "text": [
      "Upscaling Frame: 5\n"
     ]
    },
    {
     "data": {
      "application/vnd.jupyter.widget-view+json": {
       "model_id": "d620ee8560ac4b86926dc96ff388f94e",
       "version_major": 2,
       "version_minor": 0
      },
      "text/plain": [
       "  0%|          | 0/20 [00:00<?, ?it/s]"
      ]
     },
     "metadata": {},
     "output_type": "display_data"
    },
    {
     "name": "stdout",
     "output_type": "stream",
     "text": [
      "Upscaling Frame: 6\n"
     ]
    },
    {
     "data": {
      "application/vnd.jupyter.widget-view+json": {
       "model_id": "ce581de5b5f94ab19d5ec85db47110ac",
       "version_major": 2,
       "version_minor": 0
      },
      "text/plain": [
       "  0%|          | 0/20 [00:00<?, ?it/s]"
      ]
     },
     "metadata": {},
     "output_type": "display_data"
    },
    {
     "name": "stdout",
     "output_type": "stream",
     "text": [
      "Upscaling Frame: 7\n"
     ]
    },
    {
     "data": {
      "application/vnd.jupyter.widget-view+json": {
       "model_id": "41dcc1c3a55e4e6faf4d777a8b2b5a4a",
       "version_major": 2,
       "version_minor": 0
      },
      "text/plain": [
       "  0%|          | 0/20 [00:00<?, ?it/s]"
      ]
     },
     "metadata": {},
     "output_type": "display_data"
    },
    {
     "name": "stdout",
     "output_type": "stream",
     "text": [
      "Upscaling Frame: 8\n"
     ]
    },
    {
     "data": {
      "application/vnd.jupyter.widget-view+json": {
       "model_id": "5430cd7c83154ddf90944df009c6bebe",
       "version_major": 2,
       "version_minor": 0
      },
      "text/plain": [
       "  0%|          | 0/20 [00:00<?, ?it/s]"
      ]
     },
     "metadata": {},
     "output_type": "display_data"
    },
    {
     "name": "stdout",
     "output_type": "stream",
     "text": [
      "Upscaling Frame: 9\n"
     ]
    },
    {
     "data": {
      "application/vnd.jupyter.widget-view+json": {
       "model_id": "4e691c80c4594110af6af86fff2d2701",
       "version_major": 2,
       "version_minor": 0
      },
      "text/plain": [
       "  0%|          | 0/20 [00:00<?, ?it/s]"
      ]
     },
     "metadata": {},
     "output_type": "display_data"
    },
    {
     "name": "stdout",
     "output_type": "stream",
     "text": [
      "Upscaling Frame: 10\n"
     ]
    },
    {
     "data": {
      "application/vnd.jupyter.widget-view+json": {
       "model_id": "c758e559cea044c888375d2e205c7f11",
       "version_major": 2,
       "version_minor": 0
      },
      "text/plain": [
       "  0%|          | 0/20 [00:00<?, ?it/s]"
      ]
     },
     "metadata": {},
     "output_type": "display_data"
    },
    {
     "name": "stdout",
     "output_type": "stream",
     "text": [
      "Upscaling Frame: 11\n"
     ]
    },
    {
     "data": {
      "application/vnd.jupyter.widget-view+json": {
       "model_id": "1f7beec0254744cca37fb98288cb5adb",
       "version_major": 2,
       "version_minor": 0
      },
      "text/plain": [
       "  0%|          | 0/20 [00:00<?, ?it/s]"
      ]
     },
     "metadata": {},
     "output_type": "display_data"
    },
    {
     "name": "stdout",
     "output_type": "stream",
     "text": [
      "Upscaling Frame: 12\n"
     ]
    },
    {
     "data": {
      "application/vnd.jupyter.widget-view+json": {
       "model_id": "aee478ce409b461dbadcf6d08f5b4617",
       "version_major": 2,
       "version_minor": 0
      },
      "text/plain": [
       "  0%|          | 0/20 [00:00<?, ?it/s]"
      ]
     },
     "metadata": {},
     "output_type": "display_data"
    },
    {
     "name": "stdout",
     "output_type": "stream",
     "text": [
      "Upscaling Frame: 13\n"
     ]
    },
    {
     "data": {
      "application/vnd.jupyter.widget-view+json": {
       "model_id": "5b79c71d722a42098399b495ffbd1147",
       "version_major": 2,
       "version_minor": 0
      },
      "text/plain": [
       "  0%|          | 0/20 [00:00<?, ?it/s]"
      ]
     },
     "metadata": {},
     "output_type": "display_data"
    },
    {
     "name": "stdout",
     "output_type": "stream",
     "text": [
      "Upscaling Frame: 14\n"
     ]
    },
    {
     "data": {
      "application/vnd.jupyter.widget-view+json": {
       "model_id": "29cc9396124c456189457d1fce972390",
       "version_major": 2,
       "version_minor": 0
      },
      "text/plain": [
       "  0%|          | 0/20 [00:00<?, ?it/s]"
      ]
     },
     "metadata": {},
     "output_type": "display_data"
    },
    {
     "name": "stdout",
     "output_type": "stream",
     "text": [
      "Upscaling Frame: 15\n"
     ]
    },
    {
     "data": {
      "application/vnd.jupyter.widget-view+json": {
       "model_id": "f8895995eeef4d3f86521dbf1bd966be",
       "version_major": 2,
       "version_minor": 0
      },
      "text/plain": [
       "  0%|          | 0/20 [00:00<?, ?it/s]"
      ]
     },
     "metadata": {},
     "output_type": "display_data"
    },
    {
     "name": "stdout",
     "output_type": "stream",
     "text": [
      "Upscaling Frame: 16\n"
     ]
    },
    {
     "data": {
      "application/vnd.jupyter.widget-view+json": {
       "model_id": "72eb5cba1d64488280f2e10c7fa04f51",
       "version_major": 2,
       "version_minor": 0
      },
      "text/plain": [
       "  0%|          | 0/20 [00:00<?, ?it/s]"
      ]
     },
     "metadata": {},
     "output_type": "display_data"
    },
    {
     "name": "stdout",
     "output_type": "stream",
     "text": [
      "Upscaling Frame: 17\n"
     ]
    },
    {
     "data": {
      "application/vnd.jupyter.widget-view+json": {
       "model_id": "dfe732c8440d437c942968723a9633a6",
       "version_major": 2,
       "version_minor": 0
      },
      "text/plain": [
       "  0%|          | 0/20 [00:00<?, ?it/s]"
      ]
     },
     "metadata": {},
     "output_type": "display_data"
    },
    {
     "name": "stdout",
     "output_type": "stream",
     "text": [
      "Upscaling Frame: 18\n"
     ]
    },
    {
     "data": {
      "application/vnd.jupyter.widget-view+json": {
       "model_id": "73c1aa1cd0654e5a9b314371d2188f21",
       "version_major": 2,
       "version_minor": 0
      },
      "text/plain": [
       "  0%|          | 0/20 [00:00<?, ?it/s]"
      ]
     },
     "metadata": {},
     "output_type": "display_data"
    },
    {
     "name": "stdout",
     "output_type": "stream",
     "text": [
      "Upscaling Frame: 19\n"
     ]
    },
    {
     "data": {
      "application/vnd.jupyter.widget-view+json": {
       "model_id": "611fffeb352746d3b2437668654aa3d4",
       "version_major": 2,
       "version_minor": 0
      },
      "text/plain": [
       "  0%|          | 0/20 [00:00<?, ?it/s]"
      ]
     },
     "metadata": {},
     "output_type": "display_data"
    },
    {
     "name": "stdout",
     "output_type": "stream",
     "text": [
      "Upscaling Frame: 20\n"
     ]
    },
    {
     "data": {
      "application/vnd.jupyter.widget-view+json": {
       "model_id": "80965a250b5e46eaa19c6d25231caddf",
       "version_major": 2,
       "version_minor": 0
      },
      "text/plain": [
       "  0%|          | 0/20 [00:00<?, ?it/s]"
      ]
     },
     "metadata": {},
     "output_type": "display_data"
    },
    {
     "name": "stdout",
     "output_type": "stream",
     "text": [
      "Upscaling Frame: 21\n"
     ]
    }
   ],
   "source": [
    "hd_vid = upscale_video_4x(sd_vid, \"cityscape at night\", limit_frames = 20)"
   ]
  },
  {
   "cell_type": "code",
   "execution_count": 66,
   "metadata": {},
   "outputs": [
    {
     "data": {
      "text/plain": [
       "(21, 1920, 2560, 3)"
      ]
     },
     "execution_count": 66,
     "metadata": {},
     "output_type": "execute_result"
    }
   ],
   "source": [
    "hd_vid.shape"
   ]
  },
  {
   "cell_type": "code",
   "execution_count": 75,
   "metadata": {},
   "outputs": [
    {
     "name": "stdout",
     "output_type": "stream",
     "text": [
      "Upscaled video /home/video-upscaling/data/inter4k_222_hd.mp4\n",
      "It's a 1920x2560 video, with 21 frames at 60.0fps, thus totalling 0.35s\n"
     ]
    }
   ],
   "source": [
    "# TODO: Encode video using h264 at 60fps\n",
    "iio.imwrite(HD_VID_PATH, hd_vid)\n",
    "print(f\"Upscaled video {HD_VID_PATH}\")\n",
    "print(f\"It's a {hd_vid.shape[1]}x{hd_vid.shape[2]} video, with {hd_vid.shape[0]} frames at {sd_vid_metadata['fps']}fps, thus totalling {hd_vid.shape[0] / sd_vid_metadata['fps'] :.2f}s\")"
   ]
  }
 ],
 "metadata": {
  "kernelspec": {
   "display_name": "base",
   "language": "python",
   "name": "python3"
  },
  "language_info": {
   "codemirror_mode": {
    "name": "ipython",
    "version": 3
   },
   "file_extension": ".py",
   "mimetype": "text/x-python",
   "name": "python",
   "nbconvert_exporter": "python",
   "pygments_lexer": "ipython3",
   "version": "3.11.8"
  }
 },
 "nbformat": 4,
 "nbformat_minor": 2
}
